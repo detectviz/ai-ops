{
 "cells": [
  {
   "cell_type": "markdown",
   "metadata": {},
   "source": [
    "# ADK 應用程式測試\n",
    "\n",
    "本筆記本示範如何測試 ADK (代理開發套件) 應用程式。\n",
    "它涵蓋了使用 Agent Engine 和 Cloud Run 進行本地和遠端測試。\n",
    "\n",
    "> **注意**：本筆記本假設代理檔案儲存在 `app` 資料夾中。如果您的代理檔案位於不同的目錄，請相應地更新所有相關的檔案路徑和參考。\n",
    "\n",
    "<img src=\"https://github.com/GoogleCloudPlatform/agent-starter-pack/blob/main/docs/images/adk_logo.png?raw=true\" width=\"400\">\n",
    "\n"
   ]
  },
  {
   "cell_type": "markdown",
   "metadata": {},
   "source": [
    "## 安裝依賴項"
   ]
  },
  {
   "cell_type": "code",
   "execution_count": null,
   "metadata": {},
   "outputs": [],
   "source": [
    "!pip install google-cloud-aiplatform --upgrade"
   ]
  },
  {
   "cell_type": "markdown",
   "metadata": {},
   "source": [
    "### 匯入函式庫"
   ]
  },
  {
   "cell_type": "code",
   "execution_count": 1,
   "metadata": {},
   "outputs": [],
   "source": [
    "import json\n",
    "\n",
    "import requests\n",
    "import vertexai.agent_engines"
   ]
  },
  {
   "cell_type": "markdown",
   "metadata": {},
   "source": [
    "## 如果您正在使用 Agent Engine\n",
    "更多文件請參閱 [Agent Engine 總覽](https://cloud.google.com/vertex-ai/generative-ai/docs/agent-engine/overview)"
   ]
  },
  {
   "cell_type": "markdown",
   "metadata": {},
   "source": [
    "### 遠端測試"
   ]
  },
  {
   "cell_type": "code",
   "execution_count": 4,
   "metadata": {},
   "outputs": [],
   "source": [
    "# 替換為您的 Agent Engine ID\n",
    "AGENT_ENGINE_ID = \"projects/PROJECT_ID/locations/us-central1/reasoningEngines/ENGINE_ID\""
   ]
  },
  {
   "cell_type": "code",
   "execution_count": 5,
   "metadata": {},
   "outputs": [],
   "source": [
    "remote_agent_engine = vertexai.agent_engines.get(AGENT_ENGINE_ID)"
   ]
  },
  {
   "cell_type": "code",
   "execution_count": null,
   "metadata": {},
   "outputs": [],
   "source": [
    "for event in remote_agent_engine.stream_query(message=\"hi!\", user_id=\"test\"):\n",
    "    print(event)"
   ]
  },
  {
   "cell_type": "code",
   "execution_count": null,
   "metadata": {},
   "outputs": [],
   "source": [
    "remote_agent_engine.register_feedback(\n",
    "    feedback={\n",
    "        \"score\": 5,\n",
    "        \"text\": \"Great response!\",\n",
    "        \"invocation_id\": \"test-invocation-123\",\n",
    "        \"user_id\": \"test\",\n",
    "    }\n",
    ")"
   ]
  },
  {
   "cell_type": "markdown",
   "metadata": {},
   "source": [
    "### 本地測試\n",
    "\n",
    "您可以直接在您的環境中匯入 AgentEngineApp 類別。\n",
    "要在本地執行代理，請按照以下步驟操作：\n",
    "1. 確保您的環境中已安裝所有必要的套件\n",
    "2. 建議的方法是使用 'uv' 工具建立的同一個虛擬環境\n",
    "3. 您可以從代理的根目錄執行 'make install' 來設定此環境\n",
    "4. 然後在您的 Jupyter 筆記本中選擇此核心（專案中的 .venv 資料夾），以確保所有依賴項都可用"
   ]
  },
  {
   "cell_type": "code",
   "execution_count": 2,
   "metadata": {},
   "outputs": [],
   "source": [
    "# 如果您未使用 uv 建立的虛擬環境，請取消註解以下幾行\n",
    "# import sys\n",
    "# sys.path.append(\"../\")"
   ]
  },
  {
   "cell_type": "code",
   "execution_count": null,
   "metadata": {},
   "outputs": [],
   "source": [
    "from app.agent import root_agent\n",
    "from app.agent_engine_app import AgentEngineApp\n",
    "\n",
    "agent_engine = AgentEngineApp(agent=root_agent)"
   ]
  },
  {
   "cell_type": "code",
   "execution_count": null,
   "metadata": {},
   "outputs": [],
   "source": [
    "for event in agent_engine.stream_query(message=\"hi!\", user_id=\"test\"):\n",
    "    print(event)"
   ]
  },
  {
   "cell_type": "markdown",
   "metadata": {},
   "source": [
    "## 如果您正在使用 Cloud Run"
   ]
  },
  {
   "cell_type": "markdown",
   "metadata": {},
   "source": [
    "#### 遠端測試\n",
    "\n",
    "有關向 Cloud Run 服務驗證 HTTPS 請求的更多資訊，請參閱：\n",
    "[Cloud Run 驗證文件](https://cloud.google.com/run/docs/triggering/https-request)\n",
    "\n",
    "遠端測試涉及使用已部署的服務 URL 而不是 localhost。\n",
    "\n",
    "驗證是使用 GCP 身份權杖而不是本地憑證來處理的。"
   ]
  },
  {
   "cell_type": "code",
   "execution_count": 20,
   "metadata": {},
   "outputs": [],
   "source": [
    "ID_TOKEN = get_ipython().getoutput(\"gcloud auth print-identity-token -q\")[0]"
   ]
  },
  {
   "cell_type": "code",
   "execution_count": null,
   "metadata": {},
   "outputs": [],
   "source": [
    "SERVICE_URL = \"YOUR_SERVICE_URL_HERE\"  # 替換為您的 Cloud Run 服務 URL"
   ]
  },
  {
   "cell_type": "markdown",
   "metadata": {},
   "source": [
    "您需要先建立一個會話"
   ]
  },
  {
   "cell_type": "code",
   "execution_count": null,
   "metadata": {},
   "outputs": [],
   "source": [
    "user_id = \"test_user_123\"\n",
    "session_data = {\"state\": {\"preferred_language\": \"English\", \"visit_count\": 1}}\n",
    "\n",
    "session_url = f\"{SERVICE_URL}/apps/app/users/{user_id}/sessions\"\n",
    "headers = {\"Content-Type\": \"application/json\", \"Authorization\": f\"Bearer {ID_TOKEN}\"}\n",
    "\n",
    "session_response = requests.post(session_url, headers=headers, json=session_data)\n",
    "print(f\"會話建立狀態碼: {session_response.status_code}\")\n",
    "print(f\"會話建立回應: {session_response.json()}\")\n",
    "session_id = session_response.json()[\"id\"]"
   ]
  },
  {
   "cell_type": "markdown",
   "metadata": {},
   "source": [
    "然後您就可以傳送訊息了"
   ]
  },
  {
   "cell_type": "code",
   "execution_count": null,
   "metadata": {},
   "outputs": [],
   "source": [
    "message_data = {\n",
    "    \"app_name\": \"app\",\n",
    "    \"user_id\": user_id,\n",
    "    \"session_id\": session_id,\n",
    "    \"new_message\": {\"role\": \"user\", \"parts\": [{\"text\": \"Hello! Weather in New york?\"}]},\n",
    "    \"streaming\": True,\n",
    "}\n",
    "\n",
    "message_url = f\"{SERVICE_URL}/run_sse\"\n",
    "message_response = requests.post(\n",
    "    message_url, headers=headers, json=message_data, stream=True\n",
    ")\n",
    "\n",
    "print(f\"訊息傳送狀態碼: {message_response.status_code}\")\n",
    "\n",
    "# 列印串流回應\n",
    "for line in message_response.iter_lines():\n",
    "    if line:\n",
    "        line_str = line.decode(\"utf-8\")\n",
    "        if line_str.startswith(\"data: \"):\n",
    "            event_json = line_str[6:]\n",
    "            event = json.loads(event_json)\n",
    "            print(f\"收到的事件: {event}\")"
   ]
  },
  {
   "cell_type": "markdown",
   "metadata": {},
   "source": [
    "### 本地測試\n",
    "\n",
    "> 您可以透過 `make local-backend` 指令在本地執行應用程式。"
   ]
  },
  {
   "cell_type": "markdown",
   "metadata": {},
   "source": [
    "#### 建立一個會話\n",
    " 建立一個帶有使用者偏好和狀態資訊的新會話\n"
   ]
  },
  {
   "cell_type": "code",
   "execution_count": null,
   "metadata": {},
   "outputs": [],
   "source": [
    "user_id = \"test_user_123\"\n",
    "session_data = {\"state\": {\"preferred_language\": \"English\", \"visit_count\": 1}}\n",
    "\n",
    "session_url = f\"http://127.0.0.1:8000/apps/app/users/{user_id}/sessions\"\n",
    "headers = {\"Content-Type\": \"application/json\"}\n",
    "\n",
    "session_response = requests.post(session_url, headers=headers, json=session_data)\n",
    "print(f\"會話建立狀態碼: {session_response.status_code}\")\n",
    "print(f\"會話建立回應: {session_response.json()}\")\n",
    "session_id = session_response.json()[\"id\"]"
   ]
  },
  {
   "cell_type": "markdown",
   "metadata": {},
   "source": [
    "#### 傳送一則訊息\n",
    "向後端服務傳送一則訊息並接收串流回應\n"
   ]
  },
  {
   "cell_type": "code",
   "execution_count": null,
   "metadata": {},
   "outputs": [],
   "source": [
    "message_data = {\n",
    "    \"app_name\": \"app\",\n",
    "    \"user_id\": user_id,\n",
    "    \"session_id\": session_id,\n",
    "    \"new_message\": {\"role\": \"user\", \"parts\": [{\"text\": \"Hello! Weather in New york?\"}]},\n",
    "    \"streaming\": True,\n",
    "}\n",
    "\n",
    "message_url = \"http://127.0.0.1:8000/run_sse\"\n",
    "message_response = requests.post(\n",
    "    message_url, headers=headers, json=message_data, stream=True\n",
    ")\n",
    "\n",
    "print(f\"訊息傳送狀態碼: {message_response.status_code}\")\n",
    "\n",
    "# 列印串流回應\n",
    "for line in message_response.iter_lines():\n",
    "    if line:\n",
    "        line_str = line.decode(\"utf-8\")\n",
    "        if line_str.startswith(\"data: \"):\n",
    "            event_json = line_str[6:]\n",
    "            event = json.loads(event_json)\n",
    "            print(f\"收到的事件: {event}\")"
   ]
  }
 ],
 "metadata": {
  "kernelspec": {
   "display_name": "Python 3",
   "language": "python",
   "name": "python3"
  },
  "language_info": {
   "codemirror_mode": {
    "name": "ipython",
    "version": 3
   },
   "file_extension": ".py",
   "mimetype": "text/x-python",
   "name": "python",
   "nbconvert_exporter": "python",
   "pygments_lexer": "ipython3",
   "version": "3.12.2"
  }
 },
 "nbformat": 4,
 "nbformat_minor": 2
}
