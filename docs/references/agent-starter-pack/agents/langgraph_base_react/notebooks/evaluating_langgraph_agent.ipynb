{
  "cells": [
    {
      "cell_type": "code",
      "execution_count": null,
      "metadata": {
        "id": "ur8xi4C7S06n"
      },
      "outputs": [],
      "source": [
        "# Copyright 2024 Google LLC\n",
        "#\n",
        "# Licensed under the Apache License, Version 2.0 (the \"License\");\n",
        "# you may not use this file except in compliance with the License.\n",
        "# You may obtain a copy of the License at\n",
        "#\n",
        "#     https://www.apache.org/licenses/LICENSE-2.0\n",
        "#\n",
        "# Unless required by applicable law or agreed to in writing, software\n",
        "# distributed under the License is distributed on an \"AS IS\" BASIS,\n",
        "# WITHOUT WARRANTIES OR CONDITIONS OF ANY KIND, either express or implied.\n",
        "# See the License for the specific language governing permissions and\n",
        "# limitations under the License."
      ]
    },
    {
      "cell_type": "markdown",
      "metadata": {
        "id": "JAPoU8Sm5E6e"
      },
      "source": [
        "# 評估代理 - 使用 Vertex AI Gen AI 評估服務評估 LangGraph 代理\n",
        "\n",
        "<table align=\"left\">\n",
        "  <td style=\"text-align: center\">\n",
        "    <a href=\"https://colab.research.google.com/github/GoogleCloudPlatform/generative-ai/blob/main/gemini/evaluation/evaluating_langgraph_agent.ipynb\">\n",
        "      <img width=\"32px\" src=\"https://www.gstatic.com/pantheon/images/bigquery/welcome_page/colab-logo.svg\" alt=\"Google Colaboratory logo\"><br> 在 Colab 中開啟\n",
        "    </a>\n",
        "  </td>\n",
        "  <td style=\"text-align: center\">\n",
        "    <a href=\"https://console.cloud.google.com/vertex-ai/colab/import/https:%2F%2Fraw.githubusercontent.com%2FGoogleCloudPlatform%2Fgenerative-ai%2Fmain%2Fgemini%2Fevaluation%2Fevaluating_langgraph_agent.ipynb\">\n",
        "      <img width=\"32px\" src=\"https://lh3.googleusercontent.com/JmcxdQi-qOpctIvWKgPtrzZdJJK-J3sWE1RsfjZNwshCFgE_9fULcNpuXYTilIR2hjwN\" alt=\"Google Cloud Colab Enterprise logo\"><br> 在 Colab Enterprise 中開啟\n",
        "    </a>\n",
        "  </td>\n",
        "  <td style=\"text-align: center\">\n",
        "    <a href=\"https://console.cloud.google.com/vertex-ai/workbench/deploy-notebook?download_url=https://raw.githubusercontent.com/GoogleCloudPlatform/generative-ai/main/gemini/evaluation/evaluating_langgraph_agent.ipynb\">\n",
        "      <img src=\"https://www.gstatic.com/images/branding/gcpiconscolors/vertexai/v1/32px.svg\" alt=\"Vertex AI logo\"><br> 在 Vertex AI Workbench 中開啟\n",
        "    </a>\n",
        "  </td>\n",
        "  <td style=\"text-align: center\">\n",
        "    <a href=\"https://github.com/GoogleCloudPlatform/generative-ai/blob/main/gemini/evaluation/evaluating_langgraph_agent.ipynb\">\n",
        "      <img width=\"32px\" src=\"https://www.svgrepo.com/download/217753/github.svg\" alt=\"GitHub logo\"><br> 在 GitHub 上檢視\n",
        "    </a>\n",
        "  </td>\n",
        "</table>\n",
        "\n",
        "<div style=\"clear: both;\"></div>\n",
        "\n",
        "<b>分享至：</b>\n",
        "\n",
        "<a href=\"https://www.linkedin.com/sharing/share-offsite/?url=https%3A//github.com/GoogleCloudPlatform/generative-ai/blob/main/gemini/evaluation/evaluating_langgraph_agent.ipynb\" target=\"_blank\">\n",
        "  <img width=\"20px\" src=\"https://upload.wikimedia.org/wikipedia/commons/8/81/LinkedIn_icon.svg\" alt=\"LinkedIn logo\">\n",
        "</a>\n",
        "\n",
        "<a href=\"https://bsky.app/intent/compose?text=https%3A//github.com/GoogleCloudPlatform/generative-ai/blob/main/gemini/evaluation/evaluating_langgraph_agent.ipynb\" target=\"_blank\">\n",
        "  <img width=\"20px\" src=\"https://upload.wikimedia.org/wikipedia/commons/7/7a/Bluesky_Logo.svg\" alt=\"Bluesky logo\">\n",
        "</a>\n",
        "\n",
        "<a href=\"https://twitter.com/intent/tweet?url=https%3A//github.com/GoogleCloudPlatform/generative-ai/blob/main/gemini/evaluation/evaluating_langgraph_agent.ipynb\" target=\"_blank\">\n",
        "  <img width=\"20px\" src=\"https://upload.wikimedia.org/wikipedia/commons/5/5a/X_icon_2.svg\" alt=\"X logo\">\n",
        "</a>\n",
        "\n",
        "<a href=\"https://reddit.com/submit?url=https%3A//github.com/GoogleCloudPlatform/generative-ai/blob/main/gemini/evaluation/evaluating_langgraph_agent.ipynb\" target=\"_blank\">\n",
        "  <img width=\"20px\" src=\"https://redditinc.com/hubfs/Reddit%20Inc/Brand/Reddit_Logo.png\" alt=\"Reddit logo\">\n",
        "</a>\n",
        "\n",
        "<a href=\"https://www.facebook.com/sharer/sharer.php?u=https%3A//github.com/GoogleCloudPlatform/generative-ai/blob/main/gemini/evaluation/evaluating_langgraph_agent.ipynb\" target=\"_blank\">\n",
        "  <img width=\"20px\" src=\"https://upload.wikimedia.org/wikipedia/commons/5/51/Facebook_f_logo_%282019%29.svg\" alt=\"Facebook logo\">\n",
        "</a>"
      ]
    },
    {
      "cell_type": "markdown",
      "metadata": {
        "id": "84f0f73a0f76"
      },
      "source": [
        "| | |\n",
        "|-|-|\n",
        "| 作者 | [Ivan Nardini](https://github.com/inardini) [Naveksha Sood](https://github.com/navekshasood)|"
      ]
    },
    {
      "cell_type": "markdown",
      "metadata": {
        "id": "tvgnzT1CKxrO"
      },
      "source": [
        "## 總覽\n",
        "\n",
        "與任何生成式 AI 應用程式一樣，AI 代理需要徹底的評估，以確保它們可靠且有效地執行。這種評估應該在即時 (線上) 和大型測試案例資料集 (離線) 上進行。建構代理應用程式的開發人員在評估其效能方面面臨重大挑戰。主觀 (人類回饋) 和客觀 (可衡量指標) 評估對於建立對代理行為的信任至關重要。\n",
        "\n",
        "Vertex AI 模型評估提供了一個品質受控且可解釋的方法和指標工具包，可用於評估任何生成式模型或應用程式 (包括代理)，並使用您自己的評估標準將評估結果與您自己的判斷進行基準比較。\n",
        "\n",
        "本教學示範如何使用 Vertex AI Gen AI 評估來評估 LangGraph 代理。\n",
        "\n",
        "本教學使用以下 Google Cloud 服務和資源：\n",
        "\n",
        "*  Vertex AI Gen AI 評估\n",
        "\n",
        "執行的步驟包括：\n",
        "\n",
        "* 使用 LangGraph 建構本地代理\n",
        "* 準備代理評估資料集\n",
        "* 單一工具使用評估\n",
        "* 軌跡評估\n",
        "* 回應評估\n"
      ]
    },
    {
      "cell_type": "markdown",
      "metadata": {
        "id": "61RBz8LLbxCR"
      },
      "source": [
        "## 開始"
      ]
    },
    {
      "cell_type": "markdown",
      "metadata": {
        "id": "No17Cw5hgx12"
      },
      "source": [
        "### 安裝 Vertex AI SDK 和其他必要套件\n"
      ]
    },
    {
      "cell_type": "code",
      "execution_count": null,
      "metadata": {
        "id": "tFy3H3aPgx12"
      },
      "outputs": [],
      "source": [
        "%pip install \"langchain_google_vertexai\" \"langgraph\"\n",
        "%pip install --upgrade --user --quiet \"google-cloud-aiplatform[evaluation]\""
      ]
    },
    {
      "cell_type": "markdown",
      "metadata": {
        "id": "R5Xep4W9lq-Z"
      },
      "source": [
        "### 重新啟動執行階段\n",
        "\n",
        "要在這個 Jupyter 執行階段中使用新安裝的套件，您必須重新啟動執行階段。您可以透過執行下面的儲存格來執行此操作，它會重新啟動目前的內核。\n",
        "\n",
        "重新啟動可能需要一分鐘或更長時間。重新啟動後，繼續下一步。"
      ]
    },
    {
      "cell_type": "code",
      "execution_count": null,
      "metadata": {
        "id": "XRvKdaPDTznN"
      },
      "outputs": [],
      "source": [
        "import IPython\n",
        "\n",
        "app = IPython.Application.instance()\n",
        "app.kernel.do_shutdown(True)"
      ]
    },
    {
      "cell_type": "markdown",
      "metadata": {
        "id": "SbmM4z7FOBpM"
      },
      "source": [
        "<div class=\"alert alert-block alert-warning\">\n",
        "<b>⚠️ 內核即將重新啟動。在 Colab 或 Colab Enterprise 中，您可能會看到一條錯誤訊息，指出「您的會話因不明原因崩潰」。這是預期行為。請等到它完成後再繼續下一步。⚠️</b>\n",
        "</div>\n"
      ]
    },
    {
      "cell_type": "markdown",
      "metadata": {
        "id": "dmWOrTJ3gx13"
      },
      "source": [
        "### 驗證您的筆記本環境 (僅限 Colab)\n",
        "\n",
        "如果您在 Google Colab 上執行此筆記本，請執行以下儲存格以驗證您的環境。"
      ]
    },
    {
      "cell_type": "code",
      "execution_count": null,
      "metadata": {
        "id": "NyKGtVQjgx13"
      },
      "outputs": [],
      "source": [
        "import sys\n",
        "\n",
        "if \"google.colab\" in sys.modules:\n",
        "    from google.colab import auth\n",
        "\n",
        "    auth.authenticate_user()"
      ]
    },
    {
      "cell_type": "markdown",
      "metadata": {
        "id": "DF4l8DTdWgPY"
      },
      "source": [
        "### 設定 Google Cloud 專案資訊並初始化 Vertex AI SDK\n",
        "\n",
        "要開始使用 Vertex AI，您必須擁有一個現有的 Google Cloud 專案並[啟用 Vertex AI API](https://console.cloud.google.com/flows/enableapi?apiid=aiplatform.googleapis.com)。\n",
        "\n",
        "了解更多關於[設定專案和開發環境](https://cloud.google.com/vertex-ai/docs/start/cloud-environment)的資訊。"
      ]
    },
    {
      "cell_type": "code",
      "execution_count": null,
      "metadata": {
        "id": "Nqwi-5ufWp_B"
      },
      "outputs": [],
      "source": [
        "# 如果使用者未提供專案 ID，則使用環境變數。\n",
        "import os\n",
        "\n",
        "import vertexai\n",
        "\n",
        "PROJECT_ID = \"[your-project-id]\"  # @param {type: \"string\", placeholder: \"[your-project-id]\", isTemplate: true}\n",
        "\n",
        "if not PROJECT_ID or PROJECT_ID == \"[your-project-id]\":\n",
        "    PROJECT_ID = str(os.environ.get(\"GOOGLE_CLOUD_PROJECT\"))\n",
        "\n",
        "LOCATION = os.environ.get(\"GOOGLE_CLOUD_REGION\", \"us-central1\")\n",
        "\n",
        "EXPERIMENT_NAME = \"evaluate-langgraph-agent\"  # @param {type:\"string\"}\n",
        "\n",
        "vertexai.init(project=PROJECT_ID, location=LOCATION, experiment=EXPERIMENT_NAME)"
      ]
    },
    {
      "cell_type": "markdown",
      "metadata": {
        "id": "5303c05f7aa6"
      },
      "source": [
        "## 匯入函式庫\n",
        "\n",
        "匯入教學所需的函式庫。"
      ]
    },
    {
      "cell_type": "code",
      "execution_count": null,
      "metadata": {
        "id": "6fc324893334"
      },
      "outputs": [],
      "source": [
        "import json\n",
        "\n",
        "# 一般\n",
        "import random\n",
        "import string\n",
        "from typing import Literal\n",
        "\n",
        "from IPython.display import HTML, Markdown, display\n",
        "\n",
        "# 評估代理\n",
        "from google.cloud import aiplatform\n",
        "from langchain.load import dump as langchain_load_dump\n",
        "\n",
        "# 建構代理\n",
        "from langchain_core.messages import BaseMessage, HumanMessage\n",
        "from langchain_core.tools import tool\n",
        "from langchain_google_vertexai import ChatVertexAI\n",
        "from langgraph.graph import END, MessageGraph\n",
        "from langgraph.prebuilt import ToolNode\n",
        "import pandas as pd\n",
        "import plotly.graph_objects as go\n",
        "from vertexai.preview.evaluation import EvalTask\n",
        "from vertexai.preview.evaluation.metrics import (\n",
        "    PointwiseMetric,\n",
        "    PointwiseMetricPromptTemplate,\n",
        "    TrajectorySingleToolUse,\n",
        ")"
      ]
    },
    {
      "cell_type": "markdown",
      "metadata": {
        "id": "MVnBDX54gz7j"
      },
      "source": [
        "## 定義輔助函式\n",
        "\n",
        "初始化一組輔助函式以列印教學結果。"
      ]
    },
    {
      "cell_type": "code",
      "execution_count": null,
      "metadata": {
        "id": "uSgWjMD_g1_v"
      },
      "outputs": [],
      "source": [
        "def get_id(length: int = 8) -> str:\n",
        "    \"\"\"產生指定長度的 uuid (預設=8)。\"\"\"\n",
        "    return \"\".join(random.choices(string.ascii_lowercase + string.digits, k=length))\n",
        "\n",
        "\n",
        "def parse_messages_to_output_dictionary(messages: list[dict]) -> dict:\n",
        "    \"\"\"將建構函式格式的訊息列表解析為回應和函式呼叫。\"\"\"\n",
        "\n",
        "    final_output = {\n",
        "        \"response\": \"在訊息歷史記錄中找不到 AI 回應。\",\n",
        "        \"predicted_trajectory\": [],\n",
        "    }\n",
        "\n",
        "    # 處理每則訊息\n",
        "    function_calls = []\n",
        "    for message in messages:\n",
        "        # 檢查它是否是包含實際回應的工具訊息\n",
        "        if message.get(\"type\") == \"constructor\" and \"ToolMessage\" in message.get(\n",
        "            \"id\", []\n",
        "        ):\n",
        "            final_output[\"response\"] = message[\"kwargs\"][\"content\"]\n",
        "\n",
        "        # 檢查它是否是 AI 訊息以獲取工具呼叫\n",
        "        elif message.get(\"type\") == \"constructor\" and \"AIMessage\" in message.get(\n",
        "            \"id\", []\n",
        "        ):\n",
        "            tool_calls = message[\"kwargs\"].get(\"tool_calls\", [])\n",
        "            for tool_call in tool_calls:\n",
        "                if tool_call:\n",
        "                    function_calls.append(\n",
        "                        {\n",
        "                            \"tool_name\": tool_call.get(\"name\"),\n",
        "                            \"tool_input\": tool_call.get(\"args\"),\n",
        "                        }\n",
        "                    )\n",
        "\n",
        "    final_output[\"predicted_trajectory\"] = json.dumps(function_calls)\n",
        "    return final_output\n",
        "\n",
        "\n",
        "def format_output_as_markdown(output: dict) -> str:\n",
        "    \"\"\"將輸出字典轉換為格式化的 markdown 字串。\"\"\"\n",
        "    markdown = \"### AI 回應\\n\"\n",
        "    markdown += f\"{output['response']}\\n\\n\"\n",
        "\n",
        "    if output[\"predicted_trajectory\"]:\n",
        "        output[\"predicted_trajectory\"] = json.loads(output[\"predicted_trajectory\"])\n",
        "        markdown += \"### 函式呼叫\\n\"\n",
        "        for call in output[\"predicted_trajectory\"]:\n",
        "            markdown += f\"- **函式**: `{call['tool_name']}`\\n\"\n",
        "            markdown += \"  - **參數**:\\n\"\n",
        "            for key, value in call[\"tool_input\"].items():\n",
        "                markdown += f\"    - `{key}`: `{value}`\\n\"\n",
        "\n",
        "    return markdown\n",
        "\n",
        "\n",
        "def display_eval_report(eval_result: pd.DataFrame) -> None:\n",
        "    \"\"\"顯示評估結果。\"\"\"\n",
        "    metrics_df = pd.DataFrame.from_dict(eval_result.summary_metrics, orient=\"index\").T\n",
        "    display(Markdown(\"### 摘要指標\"))\n",
        "    display(metrics_df)\n",
        "\n",
        "    display(Markdown(f\"### 逐行指標\"))\n",
        "    display(eval_result.metrics_table)\n",
        "\n",
        "\n",
        "def display_drilldown(row: pd.Series) -> None:\n",
        "    \"\"\"顯示列中軌跡資料的深入檢視。\"\"\"\n",
        "\n",
        "    style = \"white-space: pre-wrap; width: 800px; overflow-x: auto;\"\n",
        "\n",
        "    if not (\n",
        "        isinstance(row[\"predicted_trajectory\"], list)\n",
        "        and isinstance(row[\"reference_trajectory\"], list)\n",
        "    ):\n",
        "        return\n",
        "\n",
        "    for predicted_trajectory, reference_trajectory in zip(\n",
        "        row[\"predicted_trajectory\"], row[\"reference_trajectory\"]\n",
        "    ):\n",
        "        display(\n",
        "            HTML(\n",
        "                f\"<h3>工具名稱:</h3><div style='{style}'>{predicted_trajectory['tool_name'], reference_trajectory['tool_name']}</div>\"\n",
        "            )\n",
        "        )\n",
        "\n",
        "        if not (\n",
        "            isinstance(predicted_trajectory.get(\"tool_input\"), dict)\n",
        "            and isinstance(reference_trajectory.get(\"tool_input\"), dict)\n",
        "        ):\n",
        "            continue\n",
        "\n",
        "        for tool_input_key in predicted_trajectory[\"tool_input\"]:\n",
        "            print(\"工具輸入鍵: \", tool_input_key)\n",
        "\n",
        "            if tool_input_key in reference_trajectory[\"tool_input\"]:\n",
        "                print(\n",
        "                    \"工具值: \",\n",
        "                    predicted_trajectory[\"tool_input\"][tool_input_key],\n",
        "                    reference_trajectory[\"tool_input\"][tool_input_key],\n",
        "                )\n",
        "            else:\n",
        "                print(\n",
        "                    \"工具值: \",\n",
        "                    predicted_trajectory[\"tool_input\"][tool_input_key],\n",
        "                    \"N/A\",\n",
        "                )\n",
        "        print(\"\\n\")\n",
        "    display(HTML(\"<hr>\"))\n",
        "\n",
        "\n",
        "def display_dataframe_rows(\n",
        "    df: pd.DataFrame,\n",
        "    columns: list[str] | None = None,\n",
        "    num_rows: int = 3,\n",
        "    display_drilldown: bool = False,\n",
        ") -> None:\n",
        "    \"\"\"顯示 DataFrame 的一部分行，可選擇性地包含深入檢視。\"\"\"\n",
        "\n",
        "    if columns:\n",
        "        df = df[columns]\n",
        "\n",
        "    base_style = \"font-family: monospace; font-size: 14px; white-space: pre-wrap; width: auto; overflow-x: auto;\"\n",
        "    header_style = base_style + \"font-weight: bold;\"\n",
        "\n",
        "    for _, row in df.head(num_rows).iterrows():\n",
        "        for column in df.columns:\n",
        "            display(\n",
        "                HTML(\n",
        "                    f\"<span style='{header_style}'>{column.replace('_', ' ').title()}: </span>\"\n",
        "                )\n",
        "            )\n",
        "            display(HTML(f\"<span style='{base_style}'>{row[column]}</span><br>\"))\n",
        "\n",
        "        display(HTML(\"<hr>\"))\n",
        "\n",
        "        if (\n",
        "            display_drilldown\n",
        "            and \"predicted_trajectory\" in df.columns\n",
        "            and \"reference_trajectory\" in df.columns\n",
        "        ):\n",
        "            display_drilldown(row)\n",
        "\n",
        "\n",
        "def plot_bar_plot(\n",
        "    eval_result: pd.DataFrame, title: str, metrics: list[str] = None\n",
        ") -> None:\n",
        "    fig = go.Figure()\n",
        "    data = []\n",
        "\n",
        "    summary_metrics = eval_result.summary_metrics\n",
        "    if metrics:\n",
        "        summary_metrics = {\n",
        "            k: summary_metrics[k]\n",
        "            for k, v in summary_metrics.items()\n",
        "            if any(selected_metric in k for selected_metric in metrics)\n",
        "        }\n",
        "\n",
        "    data.append(\n",
        "        go.Bar(\n",
        "            x=list(summary_metrics.keys()),\n",
        "            y=list(summary_metrics.values()),\n",
        "            name=title,\n",
        "        )\n",
        "    )\n",
        "\n",
        "    fig = go.Figure(data=data)\n",
        "\n",
        "    # 變更長條圖模式\n",
        "    fig.update_layout(barmode=\"group\")\n",
        "    fig.show()\n",
        "\n",
        "\n",
        "def display_radar_plot(eval_results, title: str, metrics=None):\n",
        "    \"\"\"繪製雷達圖。\"\"\"\n",
        "    fig = go.Figure()\n",
        "    summary_metrics = eval_results.summary_metrics\n",
        "    if metrics:\n",
        "        summary_metrics = {\n",
        "            k: summary_metrics[k]\n",
        "            for k, v in summary_metrics.items()\n",
        "            if any(selected_metric in k for selected_metric in metrics)\n",
        "        }\n",
        "\n",
        "    min_val = min(summary_metrics.values())\n",
        "    max_val = max(summary_metrics.values())\n",
        "\n",
        "    fig.add_trace(\n",
        "        go.Scatterpolar(\n",
        "            r=list(summary_metrics.values()),\n",
        "            theta=list(summary_metrics.keys()),\n",
        "            fill=\"toself\",\n",
        "            name=title,\n",
        "        )\n",
        "    )\n",
        "    fig.update_layout(\n",
        "        title=title,\n",
        "        polar=dict(radialaxis=dict(visible=True, range=[min_val, max_val])),\n",
        "        showlegend=True,\n",
        "    )\n",
        "    fig.show()"
      ]
    },
    {
      "cell_type": "markdown",
      "metadata": {
        "id": "bDaa2Mtsifmq"
      },
      "source": [
        "## 建構 LangGraph 代理\n",
        "\n",
        "使用 LangGraph 建構您的應用程式，包括 Gemini 模型、您定義的自訂工具以及用於控制對話流程的路由器。"
      ]
    },
    {
      "cell_type": "markdown",
      "metadata": {
        "id": "KHwShhpOitKp"
      },
      "source": [
        "### 設定工具\n",
        "\n",
        "首先，設定客戶支援代理完成工作所需的工具。"
      ]
    },
    {
      "cell_type": "code",
      "execution_count": null,
      "metadata": {
        "id": "gA2ZKvfeislw"
      },
      "outputs": [],
      "source": [
        "@tool\n",
        "def get_product_details(product_name: str):\n",
        "    \"\"\"收集產品的基本詳細資訊。\"\"\"\n",
        "    details = {\n",
        "        \"smartphone\": \"一款具有先進相機功能和閃電般處理速度的尖端智慧型手機。\",\n",
        "        \"usb charger\": \"一款超快、輕便的 USB 充電器\",\n",
        "        \"shoes\": \"專為舒適、支撐和速度而設計的高性能跑鞋。\",\n",
        "        \"headphones\": \"具有先進降噪技術的無線耳機，可提供身臨其境的音訊體驗。\",\n",
        "        \"speaker\": \"一款聲控智慧喇叭，可播放音樂、設定鬧鐘並控制智慧家居設備。\",\n",
        "    }\n",
        "    return details.get(product_name, \"找不到產品詳細資訊。\")\n",
        "\n",
        "\n",
        "@tool\n",
        "def get_product_price(product_name: str):\n",
        "    \"\"\"收集產品的價格資訊。\"\"\"\n",
        "    details = {\n",
        "        \"smartphone\": 500,\n",
        "        \"usb charger\": 10,\n",
        "        \"shoes\": 100,\n",
        "        \"headphones\": 50,\n",
        "        \"speaker\": 80,\n",
        "    }\n",
        "    return details.get(product_name, \"找不到產品價格。\")"
      ]
    },
    {
      "cell_type": "markdown",
      "metadata": {
        "id": "be70714d9fae"
      },
      "source": [
        "### 定義路由器\n",
        "\n",
        "設定一個路由器，透過根據使用者輸入或互動狀態選擇適當的工具來引導對話流程。\n"
      ]
    },
    {
      "cell_type": "code",
      "execution_count": null,
      "metadata": {
        "id": "516b5108d327"
      },
      "outputs": [],
      "source": [
        "def router(\n",
        "    state: list[BaseMessage],\n",
        ") -> Literal[\"get_product_details\", \"get_product_price\", END]:\n",
        "    \"\"\"如果使用者詢問產品，則啟動產品詳細資訊或價格檢索。\"\"\"\n",
        "    # 從對話歷史記錄的最後一則訊息中獲取 tool_calls。\n",
        "    tool_calls = state[-1].tool_calls\n",
        "\n",
        "    # 如果有任何 tool_calls\n",
        "    if tool_calls:\n",
        "        # 檢查第一個工具呼叫中的函式名稱\n",
        "        function_name = tool_calls[0].get(\"name\")\n",
        "        if function_name == \"get_product_price\":\n",
        "            return \"get_product_price\"\n",
        "        else:\n",
        "            return \"get_product_details\"\n",
        "    else:\n",
        "        # 結束對話流程。\n",
        "        return END"
      ]
    },
    {
      "cell_type": "markdown",
      "metadata": {
        "id": "l4mk5XPui4Y1"
      },
      "source": [
        "### 設定模型\n",
        "\n",
        "選擇您的代理將使用的 Gemini AI 模型。如果您對 Gemini 及其不同功能感到好奇，請查看[官方文件](https://cloud.google.com/vertex-ai/generative-ai/docs/learn/models)以獲取更多詳細資訊。"
      ]
    },
    {
      "cell_type": "code",
      "execution_count": null,
      "metadata": {
        "id": "BaYeo6K2i-w1"
      },
      "outputs": [],
      "source": [
        "llm = \"gemini-2.0-flash\""
      ]
    },
    {
      "cell_type": "markdown",
      "metadata": {
        "id": "tNlAY9cojEWz"
      },
      "source": [
        "### 組裝代理\n",
        "\n",
        "Vertex AI Gen AI 評估可直接與「可查詢 (Queryable)」的代理一起使用，也允許您使用特定結構 (簽章) 新增自己的自訂函式。\n",
        "\n",
        "在這種情況下，您使用自訂函式來組裝代理。該函式會針對給定的輸入觸發代理，並解析代理的結果以提取回應和被呼叫的工具。"
      ]
    },
    {
      "cell_type": "code",
      "execution_count": null,
      "metadata": {
        "id": "dAFdi7SujGP8"
      },
      "outputs": [],
      "source": [
        "def agent_parsed_outcome(input):\n",
        "\n",
        "    model = ChatVertexAI(model=llm)\n",
        "    builder = MessageGraph()\n",
        "\n",
        "    model_with_tools = model.bind_tools([get_product_details, get_product_price])\n",
        "    builder.add_node(\"tools\", model_with_tools)\n",
        "\n",
        "    tool_node = ToolNode([get_product_details, get_product_price])\n",
        "    builder.add_node(\"get_product_details\", tool_node)\n",
        "    builder.add_node(\"get_product_price\", tool_node)\n",
        "    builder.add_edge(\"get_product_details\", END)\n",
        "    builder.add_edge(\"get_product_price\", END)\n",
        "\n",
        "    builder.set_entry_point(\"tools\")\n",
        "    builder.add_conditional_edges(\"tools\", router)\n",
        "\n",
        "    app = builder.compile()\n",
        "    chat_history = langchain_load_dump.dumpd(app.invoke(HumanMessage(input)))\n",
        "    return parse_messages_to_output_dictionary(chat_history)"
      ]
    },
    {
      "cell_type": "markdown",
      "metadata": {
        "id": "_HGcs6PVjRj_"
      },
      "source": [
        "### 測試代理\n",
        "\n",
        "查詢您的代理。"
      ]
    },
    {
      "cell_type": "code",
      "execution_count": null,
      "metadata": {
        "id": "lGb58OJkjUs9"
      },
      "outputs": [],
      "source": [
        "response = agent_parsed_outcome(input=\"獲取鞋子的產品詳細資訊\")\n",
        "display(Markdown(format_output_as_markdown(response)))"
      ]
    },
    {
      "cell_type": "code",
      "execution_count": null,
      "metadata": {
        "id": "2wCFstt8w4Dx"
      },
      "outputs": [],
      "source": [
        "response = agent_parsed_outcome(input=\"獲取鞋子的產品價格\")\n",
        "display(Markdown(format_output_as_markdown(response)))"
      ]
    },
    {
      "cell_type": "markdown",
      "metadata": {
        "id": "aOGPePsorpUl"
      },
      "source": [
        "## 使用 Vertex AI Gen AI 評估來評估 LangGraph 代理\n",
        "\n",
        "在處理 AI 代理時，追蹤其效能以及它們的運作情況非常重要。您可以從兩個主要方面來看待這個問題：**監控**和**可觀測性**。\n",
        "\n",
        "監控專注於您的代理在執行特定任務時的表現：\n",
        "\n",
        "* **單一工具選擇**：代理是否為工作選擇了正確的工具？\n",
        "\n",
        "* **多個工具選擇 (或軌跡)**：代理在使用工具的順序上是否做出合乎邏輯的選擇？\n",
        "\n",
        "* **回應生成**：代理的輸出是否良好，並且根據其使用的工具是否有意義？\n",
        "\n",
        "可觀測性是關於了解代理的整體健康狀況：\n",
        "\n",
        "* **延遲**：代理回應需要多長時間？\n",
        "\n",
        "* **失敗率**：代理無法產生回應的頻率是多少？\n",
        "\n",
        "Vertex AI Gen AI 評估服務可幫助您在原型設計階段或將代理部署到生產環境後評估所有這些方面。它提供[預建的評估標準和指標](https://cloud.google.com/vertex-ai/generative-ai/docs/models/determine-eval)，因此您可以確切地了解您的代理的表現，並找出需要改進的地方。"
      ]
    },
    {
      "cell_type": "markdown",
      "metadata": {
        "id": "e43229f3ad4f"
      },
      "source": [
        "### 準備代理評估資料集\n",
        "\n",
        "要使用 Vertex AI Gen AI 評估服務評估您的 AI 代理，您需要一個特定的資料集，具體取決於您想要評估代理的哪些方面。\n",
        "\n",
        "此資料集應包括提供給代理的提示。它還可以包含理想或預期的回應 (真實情況) 以及代理應採取的預期工具呼叫序列 (參考軌跡)，代表您期望代理針對每個給定提示呼叫的工具序列。\n",
        "\n",
        "> 可選地，您可以提供生成的回應和預測的軌跡 (**自備資料集情境**)。\n",
        "\n",
        "以下是您可能擁有的客戶支援代理的資料集範例，其中包含使用者提示和參考軌跡。"
      ]
    },
    {
      "cell_type": "code",
      "execution_count": null,
      "metadata": {
        "id": "fFf8uTdUiDt3"
      },
      "outputs": [],
      "source": [
        "eval_data = {\n",
        "    \"prompt\": [\n",
        "        \"獲取智慧型手機的價格\",\n",
        "        \"獲取耳機的產品詳細資訊和價格\",\n",
        "        \"獲取 USB 充電器的詳細資訊\",\n",
        "        \"獲取鞋子的產品詳細資訊和價格\",\n",
        "        \"獲取喇叭的產品詳細資訊？\",\n",
        "    ],\n",
        "    \"reference_trajectory\": [\n",
        "        [\n",
        "            {\n",
        "                \"tool_name\": \"get_product_price\",\n",
        "                \"tool_input\": {\"product_name\": \"smartphone\"},\n",
        "            }\n",
        "        ],\n",
        "        [\n",
        "            {\n",
        "                \"tool_name\": \"get_product_details\",\n",
        "                \"tool_input\": {\"product_name\": \"headphones\"},\n",
        "            },\n",
        "            {\n",
        "                \"tool_name\": \"get_product_price\",\n",
        "                \"tool_input\": {\"product_name\": \"headphones\"},\n",
        "            },\n",
        "        ],\n",
        "        [\n",
        "            {\n",
        "                \"tool_name\": \"get_product_details\",\n",
        "                \"tool_input\": {\"product_name\": \"usb charger\"},\n",
        "            }\n",
        "        ],\n",
        "        [\n",
        "            {\n",
        "                \"tool_name\": \"get_product_details\",\n",
        "                \"tool_input\": {\"product_name\": \"shoes\"},\n",
        "            },\n",
        "            {\"tool_name\": \"get_product_price\", \"tool_input\": {\"product_name\": \"shoes\"}},\n",
        "        ],\n",
        "        [\n",
        "            {\n",
        "                \"tool_name\": \"get_product_details\",\n",
        "                \"tool_input\": {\"product_name\": \"speaker\"},\n",
        "            }\n",
        "        ],\n",
        "    ],\n",
        "}\n",
        "\n",
        "eval_sample_dataset = pd.DataFrame(eval_data)"
      ]
    },
    {
      "cell_type": "markdown",
      "metadata": {
        "id": "PQEI1EcfvFHb"
      },
      "source": [
        "列印資料集中的一些範例。"
      ]
    },
    {
      "cell_type": "code",
      "execution_count": null,
      "metadata": {
        "id": "EjsonqWWvIvE"
      },
      "outputs": [],
      "source": [
        "display_dataframe_rows(eval_sample_dataset, num_rows=3)"
      ]
    },
    {
      "cell_type": "markdown",
      "metadata": {
        "id": "m4CvBuf1afHG"
      },
      "source": [
        "### 單一工具使用評估\n",
        "\n",
        "在您設定好 AI 代理和評估資料集後，您可以開始評估代理是否為給定任務選擇了正確的單一工具。\n"
      ]
    },
    {
      "cell_type": "markdown",
      "metadata": {
        "id": "_rS5GGKHd5bx"
      },
      "source": [
        "#### 設定單一工具使用指標\n",
        "\n",
        "Vertex AI Gen AI 評估中的 `trajectory_single_tool_use` 指標提供了一種快速的方法來評估您的代理是否使用了您期望它使用的工具，而不管任何特定的工具順序。這是一個基本但有用的方法，可以開始評估在代理的過程中是否在某個點上使用了正確的工具。\n",
        "\n",
        "要使用 `trajectory_single_tool_use` 指標，您需要設定對於特定使用者的請求應該使用哪個工具。例如，如果使用者要求「傳送電子郵件」，您可能會期望代理使用「send_email」工具，並且在使用此指標時您會指定該工具的名稱。\n"
      ]
    },
    {
      "cell_type": "code",
      "execution_count": null,
      "metadata": {
        "id": "xixvq8dwd5by"
      },
      "outputs": [],
      "source": [
        "single_tool_usage_metrics = [TrajectorySingleToolUse(tool_name=\"get_product_price\")]"
      ]
    },
    {
      "cell_type": "markdown",
      "metadata": {
        "id": "ktKZoT2Qd5by"
      },
      "source": [
        "#### 執行評估任務\n",
        "\n",
        "要執行評估，您需要在一個實驗中，使用預先定義的資料集 (`eval_sample_dataset`) 和指標 (`single_tool_usage_metrics` 在此案例中) 來初始化一個 `EvalTask`。然後，您使用 `agent_parsed_outcome` 函式執行評估，並為此特定的評估執行指派一個唯一的識別碼，儲存和視覺化評估結果。\n"
      ]
    },
    {
      "cell_type": "code",
      "execution_count": null,
      "metadata": {
        "id": "SRv43fDcd5by"
      },
      "outputs": [],
      "source": [
        "EXPERIMENT_RUN = f\"single-metric-eval-{get_id()}\"\n",
        "\n",
        "single_tool_call_eval_task = EvalTask(\n",
        "    dataset=eval_sample_dataset,\n",
        "    metrics=single_tool_usage_metrics,\n",
        "    experiment=EXPERIMENT_NAME,\n",
        "    output_uri_prefix=BUCKET_URI + \"/single-metric-eval\",\n",
        ")\n",
        "\n",
        "single_tool_call_eval_result = single_tool_call_eval_task.evaluate(\n",
        "    runnable=agent_parsed_outcome, experiment_run_name=EXPERIMENT_RUN\n",
        ")\n",
        "\n",
        "display_eval_report(single_tool_call_eval_result)"
      ]
    },
    {
      "cell_type": "markdown",
      "metadata": {
        "id": "6o5BjSTFKVMS"
      },
      "source": [
        "#### 視覺化評估結果\n",
        "\n",
        "使用一些輔助函式來視覺化評估結果的範例。"
      ]
    },
    {
      "cell_type": "code",
      "execution_count": null,
      "metadata": {
        "id": "1Jopzw83k14w"
      },
      "outputs": [],
      "source": [
        "display_dataframe_rows(single_tool_call_eval_result.metrics_table, num_rows=3)"
      ]
    },
    {
      "cell_type": "markdown",
      "metadata": {
        "id": "JlujdJpu5Kn6"
      },
      "source": [
        "### 軌跡評估\n",
        "\n",
        "在評估代理為給定任務選擇單一最合適工具的能力之後，您可以透過分析相對於使用者輸入的工具序列選擇 (軌跡) 來概括評估。這將評估代理是否不僅選擇了正確的工具，而且還以合理且有效的方式使用它們。"
      ]
    },
    {
      "cell_type": "markdown",
      "metadata": {
        "id": "8s-nHdDJneHM"
      },
      "source": [
        "#### 設定軌跡指標\n",
        "\n",
        "要評估代理的軌跡，Vertex AI Gen AI 評估提供了幾個基於真實情況的指標：\n",
        "\n",
        "* `trajectory_exact_match`：完全相同的軌跡 (相同的動作，相同的順序)\n",
        "\n",
        "* `trajectory_in_order_match`：參考動作按順序出現在預測軌跡中 (允許額外動作)\n",
        "\n",
        "* `trajectory_any_order_match`：所有參考動作都出現在預測軌跡中 (順序、額外動作不重要)。\n",
        "\n",
        "* `trajectory_precision`：預測動作中出現在參考中的比例\n",
        "\n",
        "* `trajectory_recall`：參考動作中出現在預測中的比例。\n",
        "\n",
        "所有指標的得分為 0 或 1，除了 `trajectory_precision` 和 `trajectory_recall` 的範圍是 0 到 1。"
      ]
    },
    {
      "cell_type": "code",
      "execution_count": null,
      "metadata": {
        "id": "c32WIS95neHN"
      },
      "outputs": [],
      "source": [
        "trajectory_metrics = [\n",
        "    \"trajectory_exact_match\",\n",
        "    \"trajectory_in_order_match\",\n",
        "    \"trajectory_any_order_match\",\n",
        "    \"trajectory_precision\",\n",
        "    \"trajectory_recall\",\n",
        "]"
      ]
    },
    {
      "cell_type": "markdown",
      "metadata": {
        "id": "DF3jhTH3neHN"
      },
      "source": [
        "#### 執行評估任務\n",
        "\n",
        "透過執行新 `EvalTask` 的 `evaluate` 方法來提交評估。"
      ]
    },
    {
      "cell_type": "code",
      "execution_count": null,
      "metadata": {
        "id": "vOdS7TJUneHN"
      },
      "outputs": [],
      "source": [
        "EXPERIMENT_RUN = f\"trajectory-{get_id()}\"\n",
        "\n",
        "trajectory_eval_task = EvalTask(\n",
        "    dataset=eval_sample_dataset,\n",
        "    metrics=trajectory_metrics,\n",
        "    experiment=EXPERIMENT_NAME,\n",
        "    output_uri_prefix=BUCKET_URI + \"/multiple-metric-eval\",\n",
        ")\n",
        "\n",
        "trajectory_eval_result = trajectory_eval_task.evaluate(\n",
        "    runnable=agent_parsed_outcome, experiment_run_name=EXPERIMENT_RUN\n",
        ")\n",
        "\n",
        "display_eval_report(trajectory_eval_result)"
      ]
    },
    {
      "cell_type": "markdown",
      "metadata": {
        "id": "DBiUI3LyLBtj"
      },
      "source": [
        "#### 視覺化評估結果\n",
        "\n",
        "列印並視覺化評估結果的範例。"
      ]
    },
    {
      "cell_type": "code",
      "execution_count": null,
      "metadata": {
        "id": "sLVRdN5llA0h"
      },
      "outputs": [],
      "source": [
        "display_dataframe_rows(trajectory_eval_result.metrics_table, num_rows=3)"
      ]
    },
    {
      "cell_type": "code",
      "execution_count": null,
      "metadata": {
        "id": "erYYZEaaTNjJ"
      },
      "outputs": [],
      "source": [
        "plot_bar_plot(\n",
        "    trajectory_eval_result,\n",
        "    title=\"軌跡指標\",\n",
        "    metrics=[f\"{metric}/mean\" for metric in trajectory_metrics],\n",
        ")"
      ]
    },
    {
      "cell_type": "markdown",
      "metadata": {
        "id": "T8TipU2akHEd"
      },
      "source": [
        "### 評估最終回應\n",
        "\n",
        "與模型評估類似，您可以使用 Vertex AI Gen AI 評估來評估代理的最終回應。"
      ]
    },
    {
      "cell_type": "markdown",
      "metadata": {
        "id": "DeK-py7ykkDN"
      },
      "source": [
        "#### 設定回應指標\n",
        "\n",
        "在代理推斷之後，Vertex AI Gen AI 評估提供了幾個指標來評估生成的回應。您可以使用基於計算的指標將回應與參考進行比較 (如果需要)，並使用現有或自訂的基於模型的指標來確定最終回應的品質。\n",
        "\n",
        "查看[文件](https://cloud.google.com/vertex-ai/generative-ai/docs/models/determine-eval)以了解更多資訊。\n"
      ]
    },
    {
      "cell_type": "code",
      "execution_count": null,
      "metadata": {
        "id": "cyGHGgeVklvz"
      },
      "outputs": [],
      "source": [
        "response_metrics = [\"safety\", \"coherence\"]"
      ]
    },
    {
      "cell_type": "markdown",
      "metadata": {
        "id": "DaBJWcg1kn55"
      },
      "source": [
        "#### 執行評估任務\n",
        "\n",
        "要評估代理生成的回應，請使用 EvalTask 類別的 `evaluate` 方法。"
      ]
    },
    {
      "cell_type": "code",
      "execution_count": null,
      "metadata": {
        "id": "wRb2EC_hknSD"
      },
      "outputs": [],
      "source": [
        "EXPERIMENT_RUN = f\"response-{get_id()}\"\n",
        "\n",
        "response_eval_task = EvalTask(\n",
        "    dataset=eval_sample_dataset,\n",
        "    metrics=response_metrics,\n",
        "    experiment=EXPERIMENT_NAME,\n",
        "    output_uri_prefix=BUCKET_URI + \"/response-metric-eval\",\n",
        ")\n",
        "\n",
        "response_eval_result = response_eval_task.evaluate(\n",
        "    runnable=agent_parsed_outcome, experiment_run_name=EXPERIMENT_RUN\n",
        ")\n",
        "\n",
        "display_eval_report(response_eval_result)"
      ]
    },
    {
      "cell_type": "markdown",
      "metadata": {
        "id": "WOP9hW-rTUIU"
      },
      "source": [
        "#### 視覺化評估結果\n",
        "\n",
        "\n",
        "列印新的評估結果範例。"
      ]
    },
    {
      "cell_type": "code",
      "execution_count": null,
      "metadata": {
        "id": "ZODTRuq2lF75"
      },
      "outputs": [],
      "source": [
        "display_dataframe_rows(response_eval_result.metrics_table, num_rows=3)"
      ]
    },
    {
      "cell_type": "markdown",
      "metadata": {
        "id": "ntRBK3Te6PEc"
      },
      "source": [
        "### 根據工具選擇評估生成的回應\n",
        "\n",
        "在評估與環境互動的 AI 代理時，標準的文字生成指標 (如連貫性) 可能不夠。這是因為這些指標主要關注文字結構，而代理的回應應根據其在環境中的有效性進行評估。\n",
        "\n",
        "相反地，應使用自訂指標來評估代理的回應是否從其工具選擇中邏輯地得出，就像您在本節中看到的一樣。"
      ]
    },
    {
      "cell_type": "markdown",
      "metadata": {
        "id": "4bENwFcd6prX"
      },
      "source": [
        "#### 定義一個自訂指標\n",
        "\n",
        "根據[文件](https://cloud.google.com/vertex-ai/generative-ai/docs/models/determine-eval#model-based-metrics)，您可以定義一個提示模板，透過設定評估標準和評分系統來評估 AI 代理的回應是否從其行動中邏輯地得出。\n",
        "\n",
        "定義一個 `criteria` 來設定評估指南，並定義一個 `pointwise_rating_rubric` 來提供評分系統 (1 或 0)。然後使用 `PointwiseMetricPromptTemplate` 來使用這些元件建立模板。\n"
      ]
    },
    {
      "cell_type": "code",
      "execution_count": null,
      "metadata": {
        "id": "txGEHcg76riI"
      },
      "outputs": [],
      "source": [
        "criteria = {\n",
        "    \"遵循軌跡\": (\n",
        "        \"評估代理的回應是否從其採取的行動序列中邏輯地得出。\"\n",
        "        \"考慮以下幾點：\\n\"\n",
        "        \"  - 回應是否反映了在軌跡中收集到的資訊？\\n\"\n",
        "        \"  - 回應是否與任務的目標和約束一致？\\n\"\n",
        "        \"  - 推理中是否有任何意想不到或不合邏輯的跳躍？\\n\"\n",
        "        \"提供來自軌跡和回應的具體範例以支持您的評估。\"\n",
        "    )\n",
        "}\n",
        "\n",
        "pointwise_rating_rubric = {\n",
        "    \"1\": \"遵循軌跡\",\n",
        "    \"0\": \"不遵循軌跡\",\n",
        "}\n",
        "\n",
        "response_follows_trajectory_prompt_template = PointwiseMetricPromptTemplate(\n",
        "    criteria=criteria,\n",
        "    rating_rubric=pointwise_rating_rubric,\n",
        "    input_variables=[\"prompt\", \"predicted_trajectory\"],\n",
        ")"
      ]
    },
    {
      "cell_type": "markdown",
      "metadata": {
        "id": "8MJqXu0kikxd"
      },
      "source": [
        "列印此模板的 prompt_data，其中包含組合的標準和評分標準資訊，可用於評估。"
      ]
    },
    {
      "cell_type": "code",
      "execution_count": null,
      "metadata": {
        "id": "5EL7iEDMikNQ"
      },
      "outputs": [],
      "source": [
        "print(response_follows_trajectory_prompt_template.prompt_data)"
      ]
    },
    {
      "cell_type": "markdown",
      "metadata": {
        "id": "e1djVp7Fi4Yy"
      },
      "source": [
        "在您定義了評估提示模板之後，設定相關的指標來評估一個回應遵循特定軌跡的程度。`PointwiseMetric` 建立一個指標，其中 `response_follows_trajectory` 是指標的名稱，而 `response_follows_trajectory_prompt_template` 提供了您之前設定的評估說明或上下文。\n"
      ]
    },
    {
      "cell_type": "code",
      "execution_count": null,
      "metadata": {
        "id": "Nx1xbZD87iMj"
      },
      "outputs": [],
      "source": [
        "response_follows_trajectory_metric = PointwiseMetric(\n",
        "    metric=\"response_follows_trajectory\",\n",
        "    metric_prompt_template=response_follows_trajectory_prompt_template,\n",
        ")"
      ]
    },
    {
      "cell_type": "markdown",
      "metadata": {
        "id": "1pmxLwTe7Ywv"
      },
      "source": [
        "#### 設定回應指標\n",
        "\n",
        "透過包含自訂指標來設定新的生成回應評估指標。\n"
      ]
    },
    {
      "cell_type": "code",
      "execution_count": null,
      "metadata": {
        "id": "wrsbVFDd7Ywv"
      },
      "outputs": [],
      "source": [
        "response_tool_metrics = [\n",
        "    \"trajectory_exact_match\",\n",
        "    \"trajectory_in_order_match\",\n",
        "    \"safety\",\n",
        "    response_follows_trajectory_metric,\n",
        "]"
      ]
    },
    {
      "cell_type": "markdown",
      "metadata": {
        "id": "Lo-Sza807Ywv"
      },
      "source": [
        "#### 執行評估任務\n",
        "\n",
        "執行新的代理評估。"
      ]
    },
    {
      "cell_type": "code",
      "execution_count": null,
      "metadata": {
        "id": "_dkb4gSn7Ywv"
      },
      "outputs": [],
      "source": [
        "EXPERIMENT_RUN = f\"response-over-tools-{get_id()}\"\n",
        "\n",
        "response_eval_tool_task = EvalTask(\n",
        "    dataset=eval_sample_dataset,\n",
        "    metrics=response_tool_metrics,\n",
        "    experiment=EXPERIMENT_NAME,\n",
        "    output_uri_prefix=BUCKET_URI + \"/reasoning-metric-eval\",\n",
        ")\n",
        "\n",
        "response_eval_tool_result = response_eval_tool_task.evaluate(\n",
        "    runnable=agent_parsed_outcome, experiment_run_name=EXPERIMENT_RUN\n",
        ")\n",
        "\n",
        "display_eval_report(response_eval_tool_result)"
      ]
    },
    {
      "cell_type": "markdown",
      "metadata": {
        "id": "AtOfIFi2j88g"
      },
      "source": [
        "#### 視覺化評估結果\n",
        "\n",
        "視覺化評估結果範例。"
      ]
    },
    {
      "cell_type": "code",
      "execution_count": null,
      "metadata": {
        "id": "GH2YvXgLlLH7"
      },
      "outputs": [],
      "source": [
        "display_dataframe_rows(response_eval_tool_result.metrics_table, num_rows=3)"
      ]
    },
    {
      "cell_type": "markdown",
      "metadata": {
        "id": "4nuUDP3a2eTB"
      },
      "source": [
        "## 額外加分：自備資料集 (BYOD) 並使用 Vertex AI Gen AI 評估來評估 LangGraph 代理\n",
        "\n",
        "在自備資料集 (BYOD) [情境](https://cloud.google.com/vertex-ai/generative-ai/docs/models/evaluation-dataset)中，您需要提供代理的預測軌跡和生成的回應。\n"
      ]
    },
    {
      "cell_type": "markdown",
      "metadata": {
        "id": "DRLKlmWd27PK"
      },
      "source": [
        "### 自備您的評估資料集\n",
        "\n",
        "使用預測的軌跡和生成的回應來定義評估資料集。"
      ]
    },
    {
      "cell_type": "code",
      "execution_count": null,
      "metadata": {
        "id": "y9hBgsg324Ej"
      },
      "outputs": [],
      "source": [
        "byod_eval_data = {\n",
        "    \"prompt\": [\n",
        "        \"獲取智慧型手機的價格\",\n",
        "        \"獲取耳機的產品詳細資訊和價格\",\n",
        "        \"獲取 USB 充電器的詳細資訊\",\n",
        "        \"獲取鞋子的產品詳細資訊和價格\",\n",
        "        \"獲取喇叭的產品詳細資訊？\",\n",
        "    ],\n",
        "    \"reference_trajectory\": [\n",
        "        [\n",
        "            {\n",
        "                \"tool_name\": \"get_product_price\",\n",
        "                \"tool_input\": {\"product_name\": \"smartphone\"},\n",
        "            }\n",
        "        ],\n",
        "        [\n",
        "            {\n",
        "                \"tool_name\": \"get_product_details\",\n",
        "                \"tool_input\": {\"product_name\": \"headphones\"},\n",
        "            },\n",
        "            {\n",
        "                \"tool_name\": \"get_product_price\",\n",
        "                \"tool_input\": {\"product_name\": \"headphones\"},\n",
        "            },\n",
        "        ],\n",
        "        [\n",
        "            {\n",
        "                \"tool_name\": \"get_product_details\",\n",
        "                \"tool_input\": {\"product_name\": \"usb charger\"},\n",
        "            }\n",
        "        ],\n",
        "        [\n",
        "            {\n",
        "                \"tool_name\": \"get_product_details\",\n",
        "                \"tool_input\": {\"product_name\": \"shoes\"},\n",
        "            },\n",
        "            {\"tool_name\": \"get_product_price\", \"tool_input\": {\"product_name\": \"shoes\"}},\n",
        "        ],\n",
        "        [\n",
        "            {\n",
        "                \"tool_name\": \"get_product_details\",\n",
        "                \"tool_input\": {\"product_name\": \"speaker\"},\n",
        "            }\n",
        "        ],\n",
        "    ],\n",
        "    \"predicted_trajectory\": [\n",
        "        [\n",
        "            {\n",
        "                \"tool_name\": \"get_product_price\",\n",
        "                \"tool_input\": {\"product_name\": \"smartphone\"},\n",
        "            }\n",
        "        ],\n",
        "        [\n",
        "            {\n",
        "                \"tool_name\": \"get_product_details\",\n",
        "                \"tool_input\": {\"product_name\": \"headphones\"},\n",
        "            },\n",
        "            {\n",
        "                \"tool_name\": \"get_product_price\",\n",
        "                \"tool_input\": {\"product_name\": \"headphones\"},\n",
        "            },\n",
        "        ],\n",
        "        [\n",
        "            {\n",
        "                \"tool_name\": \"get_product_details\",\n",
        "                \"tool_input\": {\"product_name\": \"usb charger\"},\n",
        "            }\n",
        "        ],\n",
        "        [\n",
        "            {\n",
        "                \"tool_name\": \"get_product_details\",\n",
        "                \"tool_input\": {\"product_name\": \"shoes\"},\n",
        "            },\n",
        "            {\"tool_name\": \"get_product_price\", \"tool_input\": {\"product_name\": \"shoes\"}},\n",
        "        ],\n",
        "        [\n",
        "            {\n",
        "                \"tool_name\": \"get_product_details\",\n",
        "                \"tool_input\": {\"product_name\": \"speaker\"},\n",
        "            }\n",
        "        ],\n",
        "    ],\n",
        "    \"response\": [\n",
        "        \"500\",\n",
        "        \"50\",\n",
        "        \"一款超快、輕便的 USB 充電器\",\n",
        "        \"100\",\n",
        "        \"一款聲控智慧喇叭，可播放音樂、設定鬧鐘並控制智慧家居設備。\",\n",
        "    ],\n",
        "}\n",
        "\n",
        "byod_eval_sample_dataset = pd.DataFrame(byod_eval_data)\n",
        "byod_eval_sample_dataset[\"predicted_trajectory\"] = byod_eval_sample_dataset[\n",
        "    \"predicted_trajectory\"\n",
        "].apply(json.dumps)\n",
        "byod_eval_sample_dataset[\"reference_trajectory\"] = byod_eval_sample_dataset[\n",
        "    \"reference_trajectory\"\n",
        "].apply(json.dumps)"
      ]
    },
    {
      "cell_type": "markdown",
      "metadata": {
        "id": "oEYmU2eJ7q-1"
      },
      "source": [
        "### 執行評估任務\n",
        "\n",
        "使用您自己的資料集和最新評估的相同設定來執行新的代理評估。"
      ]
    },
    {
      "cell_type": "code",
      "execution_count": null,
      "metadata": {
        "id": "wBD-4wpB7q-3"
      },
      "outputs": [],
      "source": [
        "EXPERIMENT_RUN_NAME = f\"response-over-tools-byod-{get_id()}\"\n",
        "\n",
        "byod_response_eval_tool_task = EvalTask(\n",
        "    dataset=byod_eval_sample_dataset,\n",
        "    metrics=response_tool_metrics,\n",
        "    experiment=EXPERIMENT_NAME,\n",
        ")\n",
        "\n",
        "byod_response_eval_tool_result = byod_response_eval_tool_task.evaluate(\n",
        "    experiment_run_name=EXPERIMENT_RUN_NAME\n",
        ")\n",
        "\n",
        "display_eval_report(byod_response_eval_tool_result)"
      ]
    },
    {
      "cell_type": "markdown",
      "metadata": {
        "id": "9eU3LG6r7q-3"
      },
      "source": [
        "### 視覺化評估結果\n",
        "\n",
        "視覺化評估結果範例。"
      ]
    },
    {
      "cell_type": "code",
      "execution_count": null,
      "metadata": {
        "id": "pQFzmd2I7q-3"
      },
      "outputs": [],
      "source": [
        "display_dataframe_rows(byod_response_eval_tool_result.metrics_table, num_rows=3)"
      ]
    },
    {
      "cell_type": "code",
      "execution_count": null,
      "metadata": {
        "id": "DJr8GqQKTpUa"
      },
      "outputs": [],
      "source": [
        "display_radar_plot(\n",
        "    byod_response_eval_tool_result,\n",
        "    title=\"代理評估指標\",\n",
        "    metrics=[f\"{metric}/mean\" for metric in response_tool_metrics],\n",
        ")"
      ]
    },
    {
      "cell_type": "markdown",
      "metadata": {
        "id": "2a4e033321ad"
      },
      "source": [
        "## 清理\n"
      ]
    },
    {
      "cell_type": "code",
      "execution_count": null,
      "metadata": {
        "id": "Ox2I3UfRlTOd"
      },
      "outputs": [],
      "source": [
        "delete_experiment = True\n",
        "\n",
        "if delete_experiment:\n",
        "    try:\n",
        "        experiment = aiplatform.Experiment(EXPERIMENT_NAME)\n",
        "        experiment.delete(delete_backing_tensorboard_runs=True)\n",
        "    except Exception as e:\n",
        "        print(e)"
      ]
    }
  ],
  "metadata": {
    "colab": {
      "name": "evaluating_langgraph_agent.ipynb",
      "toc_visible": true
    },
    "kernelspec": {
      "display_name": "Python 3",
      "name": "python3"
    }
  },
  "nbformat": 4,
  "nbformat_minor": 0
}
